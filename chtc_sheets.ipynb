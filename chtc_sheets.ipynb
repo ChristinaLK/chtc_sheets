{
 "cells": [
  {
   "cell_type": "code",
   "execution_count": null,
   "metadata": {
    "collapsed": true
   },
   "outputs": [],
   "source": [
    "# Python code to extra user/project/hours used information \n",
    "# from second half of CHTC daily (weekly/monthly/yearly) reports\n",
    "# input is a single tsv file in the \"data\" directory\n",
    "# output is written to \"reports\" directory\n",
    "# can be run in the ipython notebook (replace the \"filename\" string in cell 4)\n",
    "# or on the command line as: \n",
    "# $python chtc_sheets data/spreadsheet.tsv"
   ]
  },
  {
   "cell_type": "code",
   "execution_count": 2,
   "metadata": {
    "collapsed": false
   },
   "outputs": [],
   "source": [
    "# dictionary for assigning projects -> departments\n",
    "dept_dictionary = {\n",
    "    'Economics_Roys':'Economics',\n",
    "    'BMRB':'Biochemistry',\n",
    "    'ECE_VanVeen':'Electrical and Computer Engineering',\n",
    "    'CMS':'Physics',\n",
    "    'Physics_Knezevic':'Physics',\n",
    "    'Statistics_YazhenWang':'Statistics',\n",
    "    'Cs_Ron':'Computer Sciences',\n",
    "    'Math_Boston':'Mathematics',\n",
    "    'IceCube':'Physics',\n",
    "    'WID_Biology_Vetsigian':'Biology',\n",
    "    'Economics_Gandhi':'Economics',\n",
    "    'Statistics_Tsui':'Statistics',\n",
    "    'ERC':'Mechanical Engineering',\n",
    "    'Zoology_Lee':'Zoology',\n",
    "    'MaterialScience_Morgan':'Materials Science and Engineering',\n",
    "    'OSG':'off-campus',\n",
    "    'Economics_Gregory':'Economics',\n",
    "    'CAE':'multi-departmental',\n",
    "    'Statistics_Ane':'Statistics',\n",
    "    'WID_Biology_Roy':'Biostatistics and Medical Informatics',\n",
    "    'Biostat_Broman':'Biostatistics and Medical Informatics',\n",
    "    'LMCG':'Genetics',\n",
    "    'WID':'multi-departmental',\n",
    "    'MedPhysics_Bednarz':'Medical Physics',\n",
    "    'BME_Williams':'Biomedical Engineering',\n",
    "    'SSEC':'Atmospheric Sciences',\n",
    "    'Botany_Spalding':'Botany',\n",
    "    'Biochem_Mitchell':'Biochemistry',\n",
    "    'ChemE_Mavrikakis':'Chemical and Biological Engineering',\n",
    "    'BMI_Craven':'Biostatistics and Medical Informatics',\n",
    "    'Astronomy_Heinz':'Astronomy',\n",
    "    'MSE_Szlufarska':'Materials Science and Engineering',\n",
    "    'Cs_Re':'Computer Sciences',\n",
    "    'AnimalSciences_Berres':'Animal Sciences',\n",
    "    'Purdue':'off-campus',\n",
    "    'Genetics_Pool':'Genetics',\n",
    "    'Physics_Friesen':'Physics',\n",
    "    'Chemistry_Schmidt':'Chemistry',\n",
    "    'Chemistry_Yethiraj':'Chemistry',\n",
    "    'MechE_Trujillo':'Mechanical Engineering',\n",
    "    'Physics_Bai':'Physics',\n",
    "    'EarthCube':'Geoscience',\n",
    "    'Economics_Freyberger':'Economics',\n",
    "    'CS':'Computer Sciences',\n",
    "    'Ece_Hagness':'Electrical and Computer Engineering',\n",
    "    'AnimalSciences_Wu':'Animal Sciences',\n",
    "    'CHTC':'Computer Sciences',\n",
    "    'Entomology_Zhu':'Entomology',\n",
    "    'Medicine_Johnson':'Medicine',\n",
    "    'ChE_dePablo':'Chemical and Biological Engineering',\n",
    "    'CEE_Loheide':'Civil and Environmental Engineering',\n",
    "    'Botany_Givnish':'Botany',\n",
    "    'Genetics_Payseur':'Genetics',\n",
    "    'MechE_Rutland':'Mechanical Engineering',\n",
    "    'Waisman_Alexander':'Psychiatry',\n",
    "    'EngrPhysics_Wilson':'Engineering Physics',\n",
    "    'MSE_Voyles':'Materials Science and Engineering',\n",
    "    'SOAR':'Computer Sciences',\n",
    "    'Chemistry_Cui':'Chemistry',\n",
    "    'Physics_Sarff':'Physics',\n",
    "    'Biostat':'Biostatistics and Medical Informatics',\n",
    "    'Waisman_Center':'multi-departmental',\n",
    "    'Math_Thiffeault':'Mathematics',\n",
    "    'Astronomy_DOnghia':'Astronomy',\n",
    "    'WID_Biology_Vestigian':'Bacteriology',\n",
    "    'Physics_Knutson':'Physics',\n",
    "    'Physics_Perkins':'Physics',\n",
    "    'Oncology_Hill':'Oncology',\n",
    "    'UWEC_Ma':'off-campus',\n",
    "    'Oncology_Sugden':'Oncology',\n",
    "    'ECE_Ramanathan':'Electrical and Computer Engineering',\n",
    "    'Statistics_Zhang':'Statistics',\n",
    "    'Geoscience_DeMets':'Geoscience',\n",
    "    'NucEngr_Schmitz':'Engineering Physics',\n",
    "    'Biostat_Wang':'Biostatistics and Medical Informatics',\n",
    "    'MedPhysics_Bender':'Medical Physics',\n",
    "    'Business_Gofman':'Finance',\n",
    "    'Economics_Sorensen':'Economics',\n",
    "    'MedPhysics_Campagnola':'Medical Physics',\n",
    "    'Astronomy_Townsend':'Astronomy',\n",
    "    'Business_Levine':'Finance',\n",
    "    'Cs_Sohi':'Computer Sciences',\n",
    "    'Biochem_Fox':'Biochemistry',\n",
    "    'SmallMolecule_Hoffman':'Oncology',\n",
    "    'Physics_Joynt':'Physics',\n",
    "    'MechE_Kokjohn':'Mechanical Engineering',\n",
    "    'Economics_Kennan':'Economics',\n",
    "    'Cs_Hill':'Computer Sciences',\n",
    "    'Biostat_Zhao':'Biostatistics and Medical Informatics',\n",
    "    'Physics_Forest':'Physics',\n",
    "    'EngrPhysics_Sovinec':'Engineering Physics',\n",
    "    'Chemistry_Coon':'Chemistry',\n",
    "    'Pharmacy_Kwan':'Pharmaceutical Sciences',\n",
    "    'Biostat_Singh':'Biostatistics and Medical Informatics',\n",
    "    'Psychology_Rogers':'Pyschology',\n",
    "    'Statistics_Shao':'Statistics',\n",
    "    'Waisman_Vorperian':'multi-departmental',\n",
    "    'UCSB':'off-campus',\n",
    "    'AnimalSciences_Rosa':'Animal Sciences',\n",
    "    'Math_Spagnolie':'Mathematics',\n",
    "    'Neurology_Hermann':'Neurology',\n",
    "    'EngrPhysics_Anderson':'Engineering Physics',\n",
    "    'GLBRC_WEI':'multi-departmental',\n",
    "    'EngrPhysics_Hegna':'Engineering Physics',\n",
    "    'BMI_Pack':'Biostatistics and Medical Informatics',\n",
    "    'MechE_Thelen':'Mechanical Engineering',\n",
    "    'History_Chowkwanyun':'History',\n",
    "    'Cs_Sankaralingam':'Computer Sciences',\n",
    "    'Statistics_Hanlon':'Statistics',\n",
    "    'other':'other',\n",
    "    'Botany_Sytsma':'Botany',\n",
    "    'EdPsychology_Kaplan':'Educational Psychology',\n",
    "    'UWPlatt_Haasl':'off-campus',\n",
    "    'MedPhysics_Varghese':'Medical Physics',\n",
    "    'Page_Learn':'Biostatistics and Medical Informatics',\n",
    "    'Psychiatry_Tononi':'Psychiatry',\n",
    "    'Zoology_Turner':'Zoology',\n",
    "    'Astronomy_Bershady':'Astronomy',\n",
    "    'Primate_Oconnor':'Pathology and Laboratory Medicine',\n",
    "    'Psychiatry_Koenigs':'Psychiatry',\n",
    "    'OSG-SS':'off-campus',\n",
    "    'Economics_Shi':'Economics',\n",
    "    'Arizona_iPlant':'off-campus',\n",
    "    'WID_LEL':'multi-departmental',\n",
    "    'Bacteriology_Rey':'Bacteriology',\n",
    "    'Botany_Cameron':'Botany',\n",
    "    'Math_Stechmann':'Mathematics',\n",
    "    'Medicine_Pepperell':'Medicine',\n",
    "    'EdPsychology_Steiner':'Educational Psychology',\n",
    "    'BotanyMath_Staff':'multi-departmental',\n",
    "    'Psychiatry_Kalin':'Psychiatry',\n",
    "    'BMI_Gitter':'Biostatistics and Medical Informatics',\n",
    "    'MIR_Mackie':'Medical Physics',\n",
    "    'CEE_Wu':'Civil and Environmental Engineering',\n",
    "    'Geoscience_Feigl':'Geoscience',\n",
    "    'BME_Ashton':'Biomedical Engineering',\n",
    "    'Surgery_Jiang':'Surgery',\n",
    "    'Biochemistry_Denu':'Biochemistry',\n",
    "    'GLBRC_Benton':'multi-departmental',\n",
    "    'Botany_Gilroy':'Botany',\n",
    "    'Astronomy_Tremonti':'Astronomy',\n",
    "    'Math':'Mathematics',\n",
    "    'Biochem':'Biochemistry',\n",
    "    'Economics_Atalay':'Economics',\n",
    "    'CsBanerjee':'Computer Sciences',\n",
    "    'Wempec_Jahns':'Electrical and Computer Engineering',\n",
    "    'Marschfield_Hebbring':'off-campus',\n",
    "    'Bacteriology_McMahon':'Bacteriology',\n",
    "    'Statistics_Yu':'Statistics',\n",
    "    'Psychiatry_Abercrombie':'Psychiatry',\n",
    "    'Radiology_Brace':'Radiology',\n",
    "    'Neurology_Gallagher':'Neurology',\n",
    "    'Geoscience_Cardiff':'Geoscience',\n",
    "    'CEE_hedegaard':'Civil and Environmental Engineering',\n",
    "    'UWMilwaukee':'off-campus',\n",
    "    'Atlas':'Physics',\n",
    "    'MechE_Pfotenhauer':'Mechanical Engineering',\n",
    "    'CEE_GinderVogel':'Civil and Environmental Engineering',\n",
    "    'CEE_Hedegaard':'Civil and Environmental Engineering',\n",
    "    'StatisticsYazhenWang':'Statistics',\n",
    "    'Pathobio_Friedrich':'Pathobiological Sciences',\n",
    "    'Loci_Eliceiri':'Biomedical Engineering',\n",
    "    'ChemBioEngr_Graham':'Chemical and Biological Engineering',\n",
    "    'Oncology_Ahlquist':'Oncology',\n",
    "    'AnimalSciences':'Animal Sciences',\n",
    "    'backfill':'other',\n",
    "    'Statistics_Keles':'Statistics',\n",
    "    'Botany_Graham':'Botany',\n",
    "    'Psychiatry_Cirelli':'Psychiatry',\n",
    "    'UWEC':'off-campus',\n",
    "    'Pathology_Oconnor':'Pathology and Laboratory Medicine',\n",
    "    'CBE_Yin':'Chemical and Biological Engineering',\n",
    "    'Geoscience_Staff':'Geoscience',\n",
    "    'History_Chowkanyun':'History',\n",
    "    'AgAplliedEcon_Grainger':'Agricultural and Applied Economics',\n",
    "    'DoIT':'Computer Sciences',\n",
    "    'MedPhysics_DeWerd':'Medical Physics',\n",
    "    'EdPsychology_Wollack':'Educational Psychology',\n",
    "    'OSG-People':'off-campus',\n",
    "    'GeoDeepDive':'Geoscience',\n",
    "    'SCO_Wiscland':'Geography',\n",
    "    'Bionates_Saha':'Biomedical Engineering',\n",
    "    'AAE_NETS':'Agricultural and Applied Economics',\n",
    "    'ECE_Sethares':'Electrical and Computer Engineering',\n",
    "    'BME_Chesler':'Biomedical Engineering',\n",
    "    'MechE_Qian':'Mechanical Engineering',\n",
    "    'Physics_Barger':'Physics',\n",
    "    'MechE_Negrut':'Mechanical Engineering',\n",
    "    'Astronomy_Stanimirovic':'Astronomy',\n",
    "                  }\n",
    "\n"
   ]
  },
  {
   "cell_type": "code",
   "execution_count": 3,
   "metadata": {
    "collapsed": true
   },
   "outputs": [],
   "source": [
    "# dictionary for assigning depts -> colleges\n",
    "college_dictionary = {\n",
    "    'Statistics':'Letters and Sciences',\n",
    "    'Genetics':'Agricultural and Life Sciences',\n",
    "    'Biochemistry':'Agricultural and Life Sciences',\n",
    "    'Pharmaceutical Sciences':'Pharmacy',\n",
    "    'Psychiatry':'Medicine and Public Health',\n",
    "    'Radiology':'Medicine and Public Health',\n",
    "    'Civil and Environmental Engineering':'Engineering',\n",
    "    'Medicine':'Medicine and Public Health',\n",
    "    'Mathematics':'Letters and Sciences',\n",
    "    'Biology':'Letters and Sciences',\n",
    "    'multi-departmental':'other',\n",
    "    'Finance':'Business',\n",
    "    'Mechanical Engineering':'Engineering',\n",
    "    'Biomedical Engineering':'Engineering',\n",
    "    'Entomology':'Agricultural and Life Sciences',\n",
    "    'Engineering Physics':'Engineering',\n",
    "    'Electrical and Computer Engineering':'Engineering',\n",
    "    'other':'other',\n",
    "    'Biostatistics and Medical Informatics':'Medicine and Public Health',\n",
    "    'Astronomy':'Letters and Sciences',\n",
    "    'Medical Physics':'Medicine and Public Health',\n",
    "    'Economics':'Letters and Sciences',\n",
    "    'Computer Sciences':'Letters and Sciences',\n",
    "    'Materials Science and Engineering':'Engineering',\n",
    "    'Agricultural and Applied Economics':'Agricultural and Life Sciences',\n",
    "    'Pathology and Laboratory Medicine':'Medicine and Public Health',\n",
    "    'Bacteriology':'Agricultural and Life Sciences',\n",
    "    'Chemistry':'Letters and Sciences',\n",
    "    'Physics':'Letters and Sciences',\n",
    "    'Geoscience':'Letters and Sciences',\n",
    "    'History':'Letters and Sciences',\n",
    "    'Botany':'Letters and Sciences',\n",
    "    'Oncology':'Medicine and Public Health',\n",
    "    'Atmospheric Sciences':'Letters and Sciences',\n",
    "    'Animal Sciences':'Agricultural and Life Sciences',\n",
    "    'Educational Psychology':'Education',\n",
    "    'off-campus':'off-campus',\n",
    "    'Chemical and Biological Engineering':'Engineering',\n",
    "    'Pyschology':'Letters and Sciences',\n",
    "    'Neurology':'Medicine and Public Health',\n",
    "    'Zoology':'Letters and Sciences',\n",
    "    'Pathobiological Sciences':'Veterinary Medicine',\n",
    "    'Surgery':'Medicine and Public Health',\n",
    "    'Geography':'Letters and Sciences'\n",
    "}"
   ]
  },
  {
   "cell_type": "code",
   "execution_count": 4,
   "metadata": {
    "collapsed": false
   },
   "outputs": [],
   "source": [
    "import sys\n",
    "import pandas\n",
    "\n",
    "#set filename and extract useful pieces for creating output file names\n",
    "filename = 'data/users_365_1415.tsv' # sys.argv[1]\n",
    "base_fn = filename.split('/')[1].split('.')[0]\n",
    "date_fn = base_fn.split('_')[1]+'_'+base_fn.split('_')[2]\n",
    "\n",
    "#read in data and a list of headers\n",
    "data = pandas.read_csv(filename, delimiter='\\t', skiprows=[1,2], thousands=',')\n",
    "headers = list(data.columns.values)\n",
    "date = headers[1]"
   ]
  },
  {
   "cell_type": "code",
   "execution_count": 5,
   "metadata": {
    "collapsed": false
   },
   "outputs": [],
   "source": [
    "#extract data \n",
    "#(usernames, depts, colleges, #submit point#, total hours, broken down into htc, hpc, osg, non-chtc)\n",
    "# as individual lists\n",
    "\n",
    "# list of usernames\n",
    "def username(row):\n",
    "    if row[date].split('_')[0] == 'nu':\n",
    "        return row[date].split('_')[0]+\"_\"+row[date].split('_')[1]\n",
    "    else: \n",
    "        return row[date].split('_')[0]\n",
    "usernames = list(data.apply(username, axis=1))\n",
    "\n",
    "# list of Projects\n",
    "projects = list(data[\"Project\"])\n",
    "\n",
    "# list of departments\n",
    "def dept(row):\n",
    "    proj_dept = row['Project']\n",
    "    return dept_dictionary[proj_dept]\n",
    "depts = list(data.apply(dept, axis=1))\n",
    "\n",
    "# list of colleges\n",
    "def college(row):\n",
    "    proj_dept = row['Project']\n",
    "    dept = dept_dictionary[proj_dept]\n",
    "    return college_dictionary[dept]\n",
    "colleges = list(data.apply(college, axis=1))\n",
    "\n",
    "# list of submit points\n",
    "#def submit(row):\n",
    "#    return row[date].split('_')[-1]\n",
    "#submit_point = list(data.apply(submit, axis=1))\n",
    "\n",
    "# lists of hours (non chtc, chtc (htc), slurm (hpc), and osg)\n",
    "slurm = list(data[\"SLURM\"])\n",
    "chtc = list(data[\"CHTC\"])\n",
    "osg = list(data[\"OSG\"])\n",
    "total = list(data[\"Total\"])\n",
    "\n",
    "def nonchtc(row):\n",
    "    return row['Total'] - row['CHTC'] - row['SLURM'] - row['OSG']\n",
    "outside = list(data.apply(nonchtc, axis=1))\n",
    "\n"
   ]
  },
  {
   "cell_type": "code",
   "execution_count": 6,
   "metadata": {
    "collapsed": true
   },
   "outputs": [],
   "source": [
    "#make user_data table from all lists above\n",
    "user_data = pandas.DataFrame.from_items( [('username', usernames), ('project_name',projects),\n",
    "                                         ('dept', depts), ('college', colleges),\n",
    "                                         ('total', total), ('htc', chtc), \n",
    "                                         ('hpc', slurm), ('osg', osg), ('other', outside)])\n",
    "#print user_data #[['username','total','htc','hpc','osg', 'other']]"
   ]
  },
  {
   "cell_type": "code",
   "execution_count": 8,
   "metadata": {
    "collapsed": false
   },
   "outputs": [],
   "source": [
    "# save all reorganized data\n",
    "cleaned_fn = 'reports/'+date_fn+'_cleaned.tsv'\n",
    "cleaned_file = open(cleaned_fn, 'w')\n",
    "user_data.to_csv(cleaned_file, sep='\\t', index=False)\n",
    "cleaned_file.close()"
   ]
  },
  {
   "cell_type": "code",
   "execution_count": 9,
   "metadata": {
    "collapsed": false
   },
   "outputs": [],
   "source": [
    "# get chtc users with more than 0 hours\n",
    "# this includes all people with hours on chtc supported hardware\n",
    "# (which necessarily includes everyone submitting from a CHTC submit point)\n",
    "\n",
    "chtc_users = user_data[((user_data.osg > 0) | \n",
    "                        (user_data.htc > 0) | \n",
    "                        (user_data.hpc > 0)) & (user_data.total > 0)]\n",
    "\n",
    "#print chtc_users"
   ]
  },
  {
   "cell_type": "code",
   "execution_count": 10,
   "metadata": {
    "collapsed": true
   },
   "outputs": [],
   "source": [
    "# save chtc specific data\n",
    "chtc_fn = 'reports/'+date_fn+'_chtc.tsv'\n",
    "chtc_file = open(chtc_fn, 'w')\n",
    "chtc_users.to_csv(chtc_file, sep='\\t', index=False)\n",
    "chtc_file.close()"
   ]
  },
  {
   "cell_type": "code",
   "execution_count": null,
   "metadata": {
    "collapsed": true
   },
   "outputs": [],
   "source": [
    "## what follows is just further manipulation of data above"
   ]
  },
  {
   "cell_type": "code",
   "execution_count": 11,
   "metadata": {
    "collapsed": false
   },
   "outputs": [
    {
     "data": {
      "text/plain": [
       "\"\\nchtc_usernames = chtc_users['username']\\n\\nprint chtc_usernames\\n\\n#write usernames to file\\nusers_fn = 'reports/'+base_fn+'_chtc.tsv'\\nuser_file = open(users_fn, 'w')\\nchtc_usernames.to_csv(user_file, sep='\\t', index=False)\\nuser_file.close()\""
      ]
     },
     "execution_count": 11,
     "metadata": {},
     "output_type": "execute_result"
    }
   ],
   "source": [
    "# get usernames\n",
    "'''\n",
    "chtc_usernames = chtc_users['username']\n",
    "\n",
    "print chtc_usernames\n",
    "\n",
    "#write usernames to file\n",
    "users_fn = 'reports/'+base_fn+'_chtc.tsv'\n",
    "user_file = open(users_fn, 'w')\n",
    "chtc_usernames.to_csv(user_file, sep='\\t', index=False)\n",
    "user_file.close()'''"
   ]
  },
  {
   "cell_type": "code",
   "execution_count": 12,
   "metadata": {
    "collapsed": false
   },
   "outputs": [
    {
     "data": {
      "text/plain": [
       "\"chtc_users.sort(['dept','total'])\""
      ]
     },
     "execution_count": 12,
     "metadata": {},
     "output_type": "execute_result"
    }
   ],
   "source": [
    "# fancy sorting\n",
    "'''chtc_users.sort(['dept','total'])'''"
   ]
  },
  {
   "cell_type": "code",
   "execution_count": null,
   "metadata": {
    "collapsed": true
   },
   "outputs": [],
   "source": []
  }
 ],
 "metadata": {
  "kernelspec": {
   "display_name": "Python 2",
   "language": "python",
   "name": "python2"
  },
  "language_info": {
   "codemirror_mode": {
    "name": "ipython",
    "version": 2
   },
   "file_extension": ".py",
   "mimetype": "text/x-python",
   "name": "python",
   "nbconvert_exporter": "python",
   "pygments_lexer": "ipython2",
   "version": "2.7.10"
  }
 },
 "nbformat": 4,
 "nbformat_minor": 0
}
